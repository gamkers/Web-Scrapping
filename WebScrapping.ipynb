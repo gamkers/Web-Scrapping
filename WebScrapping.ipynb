{
 "cells": [
  {
   "cell_type": "code",
   "execution_count": 6,
   "id": "b6631297",
   "metadata": {},
   "outputs": [],
   "source": [
    "from bs4 import BeautifulSoup\n",
    "import requests\n",
    "def webscrap_search(command):    \n",
    "    search = command\n",
    "    url = f\"https://www.google.com/search?q={search}\"\n",
    "    r = requests.get(url)\n",
    "    data = BeautifulSoup(r.text, \"html.parser\")\n",
    "    temp = data.find(\"div\", class_=\"BNeawe\").text\n",
    "    print(temp)"
   ]
  },
  {
   "cell_type": "code",
   "execution_count": 7,
   "id": "662f6302",
   "metadata": {},
   "outputs": [
    {
     "name": "stdout",
     "output_type": "stream",
     "text": [
      "Object-oriented programming (OOP) is an approach to systems development that is focused on objects and the way that they interact. ... Code is written to define objects and classes, and certain principles such as encapsulation, inheritance, and polymorphism are important to the design of an object-oriented program.\n"
     ]
    }
   ],
   "source": [
    "webscrap_search(\"Object oriented Programing in computer science\")"
   ]
  },
  {
   "cell_type": "code",
   "execution_count": null,
   "id": "f6eb0820",
   "metadata": {},
   "outputs": [],
   "source": []
  }
 ],
 "metadata": {
  "kernelspec": {
   "display_name": "Python 3",
   "language": "python",
   "name": "python3"
  },
  "language_info": {
   "codemirror_mode": {
    "name": "ipython",
    "version": 3
   },
   "file_extension": ".py",
   "mimetype": "text/x-python",
   "name": "python",
   "nbconvert_exporter": "python",
   "pygments_lexer": "ipython3",
   "version": "3.8.8"
  }
 },
 "nbformat": 4,
 "nbformat_minor": 5
}
